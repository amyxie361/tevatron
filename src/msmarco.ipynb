{
 "cells": [
  {
   "cell_type": "code",
   "execution_count": 1,
   "id": "5c55848b",
   "metadata": {},
   "outputs": [
    {
     "name": "stderr",
     "output_type": "stream",
     "text": [
      "2022-11-07 01:29:52.935977: I tensorflow/stream_executor/platform/default/dso_loader.cc:53] Successfully opened dynamic library libcudart.so.11.0\n"
     ]
    }
   ],
   "source": [
    "from tevatron.datasets.dataset import load_dataset"
   ]
  },
  {
   "cell_type": "code",
   "execution_count": 2,
   "id": "329fde95",
   "metadata": {},
   "outputs": [
    {
     "name": "stdout",
     "output_type": "stream",
     "text": [
      "Downloading and preparing dataset ms_marco_passage/default to /home/y247xie/.cache/huggingface/datasets/Tevatron___ms_marco_passage/default/0.0.1/1874f5d9ae5257b9dbc7d8f89c76f8d4c321be6b660bb5df208e5e64decfa978...\n"
     ]
    },
    {
     "data": {
      "application/vnd.jupyter.widget-view+json": {
       "model_id": "76780f8631f1466db4d4a6e62496d325",
       "version_major": 2,
       "version_minor": 0
      },
      "text/plain": [
       "  0%|          | 0/2 [00:00<?, ?it/s]"
      ]
     },
     "metadata": {},
     "output_type": "display_data"
    },
    {
     "data": {
      "application/vnd.jupyter.widget-view+json": {
       "model_id": "d7d14ff3fde34e648c6673a907f5f371",
       "version_major": 2,
       "version_minor": 0
      },
      "text/plain": [
       "  0%|          | 0/2 [00:00<?, ?it/s]"
      ]
     },
     "metadata": {},
     "output_type": "display_data"
    },
    {
     "data": {
      "application/vnd.jupyter.widget-view+json": {
       "model_id": "",
       "version_major": 2,
       "version_minor": 0
      },
      "text/plain": [
       "0 examples [00:00, ? examples/s]"
      ]
     },
     "metadata": {},
     "output_type": "display_data"
    },
    {
     "data": {
      "application/vnd.jupyter.widget-view+json": {
       "model_id": "",
       "version_major": 2,
       "version_minor": 0
      },
      "text/plain": [
       "0 examples [00:00, ? examples/s]"
      ]
     },
     "metadata": {},
     "output_type": "display_data"
    },
    {
     "name": "stdout",
     "output_type": "stream",
     "text": [
      "Dataset ms_marco_passage downloaded and prepared to /home/y247xie/.cache/huggingface/datasets/Tevatron___ms_marco_passage/default/0.0.1/1874f5d9ae5257b9dbc7d8f89c76f8d4c321be6b660bb5df208e5e64decfa978. Subsequent calls will reuse this data.\n"
     ]
    },
    {
     "data": {
      "application/vnd.jupyter.widget-view+json": {
       "model_id": "ab20f97af54845dcbe0ff47aa1982e83",
       "version_major": 2,
       "version_minor": 0
      },
      "text/plain": [
       "  0%|          | 0/2 [00:00<?, ?it/s]"
      ]
     },
     "metadata": {},
     "output_type": "display_data"
    }
   ],
   "source": [
    "dataset = load_dataset(\"Tevatron/msmarco-passage\",\n",
    "                      \"default\",\n",
    "                      data_files=None, cache_dir=None)"
   ]
  },
  {
   "cell_type": "code",
   "execution_count": 6,
   "id": "1813081b",
   "metadata": {},
   "outputs": [
    {
     "name": "stderr",
     "output_type": "stream",
     "text": [
      "/home/y247xie/miniconda3/envs/pygaggle/lib/python3.8/site-packages/huggingface_hub/snapshot_download.py:6: FutureWarning: snapshot_download.py has been made private and will no longer be available from version 0.11. Please use `from huggingface_hub import snapshot_download` to import the only public function in this module. Other members of the file may be changed without a deprecation notice.\n",
      "  warnings.warn(\n"
     ]
    }
   ],
   "source": [
    "from sentence_transformers import SentenceTransformer\n",
    "model = SentenceTransformer('all-mpnet-base-v2')\n"
   ]
  },
  {
   "cell_type": "code",
   "execution_count": 27,
   "id": "5863319c",
   "metadata": {},
   "outputs": [
    {
     "name": "stderr",
     "output_type": "stream",
     "text": [
      "100%|█████████████████████████████| 400782/400782 [18:23<00:00, 363.31it/s]\n"
     ]
    }
   ],
   "source": [
    "import tqdm\n",
    "qid2query_embedding = {}\n",
    "query_batch = []\n",
    "qid_batch = []\n",
    "queries_msmarco = []\n",
    "qids_msmarco = []\n",
    "embeddings_msmarco = []\n",
    "for data in tqdm.tqdm(dataset['train']):\n",
    "    query_batch.append(data['query'])\n",
    "    qid_batch.append(data['query_id'])\n",
    "    queries_msmarco.append(data['query'])\n",
    "    qids_msmarco.append(data['query_id'])\n",
    "    if len(qid_batch) == 512:\n",
    "        query_embeddings = model.encode(query_batch)\n",
    "        for i, qid in enumerate(qid_batch):\n",
    "            qid2query_embedding[qid] = query_embeddings[i]\n",
    "            embeddings_msmarco.append(query_embeddings[i])\n",
    "        query_batch = []\n",
    "        qid_batch = []\n",
    "            \n",
    "if len(qid_batch) > 0 :\n",
    "    query_embeddings = model.encode(query_batch)\n",
    "    for i, qid in enumerate(qid_batch):\n",
    "        qid2query_embedding[qid] = query_embeddings[i]\n",
    "        embeddings_msmarco.append(query_embeddings[i])\n",
    "        \n"
   ]
  },
  {
   "cell_type": "code",
   "execution_count": 13,
   "id": "6194c7c8",
   "metadata": {},
   "outputs": [
    {
     "name": "stderr",
     "output_type": "stream",
     "text": [
      "Reusing dataset scifact (/home/y247xie/.cache/huggingface/datasets/Tevatron___scifact/default/0.0.1/0407c8eb5881d4870a4474489aeb475222ebc3febda54c236dc871ea69cd85b2)\n"
     ]
    },
    {
     "data": {
      "application/vnd.jupyter.widget-view+json": {
       "model_id": "ea9584336b354c3cb1a28508311a7401",
       "version_major": 2,
       "version_minor": 0
      },
      "text/plain": [
       "  0%|          | 0/3 [00:00<?, ?it/s]"
      ]
     },
     "metadata": {},
     "output_type": "display_data"
    }
   ],
   "source": [
    "dataset_scifact = load_dataset(\"Tevatron/scifact\",\n",
    "                      \"default\",\n",
    "                      data_files=None, cache_dir=None)"
   ]
  },
  {
   "cell_type": "code",
   "execution_count": 18,
   "id": "fa60ebb9",
   "metadata": {},
   "outputs": [],
   "source": [
    "qid2query_embedding_scifact = {}\n",
    "for data in tqdm.tqdm(dataset_scifact['dev']):\n",
    "    query_embeddings = model.encode(data['query'])\n",
    "    qid2query_embedding_scifact[data['query_id']] = query_embeddings"
   ]
  },
  {
   "cell_type": "code",
   "execution_count": 19,
   "id": "dc44db97",
   "metadata": {},
   "outputs": [],
   "source": [
    "import numpy as np\n",
    "embedding_scifact = sum(qid2query_embedding_scifact[qid] for qid in qid2query_embedding_scifact) / len(qid2query_embedding_scifact)"
   ]
  },
  {
   "cell_type": "code",
   "execution_count": 131,
   "id": "071cdc82",
   "metadata": {},
   "outputs": [],
   "source": [
    "embeddings_scifact = np.array([qid2query_embedding_scifact[qid] for qid in qid2query_embedding_scifact])"
   ]
  },
  {
   "cell_type": "code",
   "execution_count": 138,
   "id": "0ac09832",
   "metadata": {},
   "outputs": [],
   "source": [
    "total = 0\n",
    "count = 0\n",
    "scifact_sims = []\n",
    "for i, sims in enumerate(np.dot(embeddings_scifact, embeddings_scifact.T)):\n",
    "    total += sum(sims) - sims[i]\n",
    "    count += len(sims) - 1\n",
    "    scifact_sims += list(sims[:i]) + list(sims[i+1:])\n",
    "    \n"
   ]
  },
  {
   "cell_type": "code",
   "execution_count": 140,
   "id": "609bfe56",
   "metadata": {},
   "outputs": [
    {
     "data": {
      "text/html": [
       "<div>\n",
       "<style scoped>\n",
       "    .dataframe tbody tr th:only-of-type {\n",
       "        vertical-align: middle;\n",
       "    }\n",
       "\n",
       "    .dataframe tbody tr th {\n",
       "        vertical-align: top;\n",
       "    }\n",
       "\n",
       "    .dataframe thead th {\n",
       "        text-align: right;\n",
       "    }\n",
       "</style>\n",
       "<table border=\"1\" class=\"dataframe\">\n",
       "  <thead>\n",
       "    <tr style=\"text-align: right;\">\n",
       "      <th></th>\n",
       "      <th>0</th>\n",
       "    </tr>\n",
       "  </thead>\n",
       "  <tbody>\n",
       "    <tr>\n",
       "      <th>count</th>\n",
       "      <td>89700.000000</td>\n",
       "    </tr>\n",
       "    <tr>\n",
       "      <th>mean</th>\n",
       "      <td>0.123611</td>\n",
       "    </tr>\n",
       "    <tr>\n",
       "      <th>std</th>\n",
       "      <td>0.113261</td>\n",
       "    </tr>\n",
       "    <tr>\n",
       "      <th>min</th>\n",
       "      <td>-0.176934</td>\n",
       "    </tr>\n",
       "    <tr>\n",
       "      <th>25%</th>\n",
       "      <td>0.040030</td>\n",
       "    </tr>\n",
       "    <tr>\n",
       "      <th>50%</th>\n",
       "      <td>0.110267</td>\n",
       "    </tr>\n",
       "    <tr>\n",
       "      <th>75%</th>\n",
       "      <td>0.194651</td>\n",
       "    </tr>\n",
       "    <tr>\n",
       "      <th>max</th>\n",
       "      <td>0.998386</td>\n",
       "    </tr>\n",
       "  </tbody>\n",
       "</table>\n",
       "</div>"
      ],
      "text/plain": [
       "                  0\n",
       "count  89700.000000\n",
       "mean       0.123611\n",
       "std        0.113261\n",
       "min       -0.176934\n",
       "25%        0.040030\n",
       "50%        0.110267\n",
       "75%        0.194651\n",
       "max        0.998386"
      ]
     },
     "execution_count": 140,
     "metadata": {},
     "output_type": "execute_result"
    }
   ],
   "source": [
    "pd.DataFrame(scifact_sims).describe()"
   ]
  },
  {
   "cell_type": "code",
   "execution_count": 22,
   "id": "cd5f8d0d",
   "metadata": {},
   "outputs": [],
   "source": [
    "import numpy as np\n",
    "scores = np.dot(embedding_scifact, np.array(embeddings_msmarco).T)"
   ]
  },
  {
   "cell_type": "code",
   "execution_count": 34,
   "id": "055d4508",
   "metadata": {},
   "outputs": [],
   "source": [
    "sim_pids = [(queries_msmarco[i], score, qids_msmarco[i]) for i, score in enumerate(scores)]\n",
    "sim_pids = sorted(sim_pids, key=lambda x: x[1], reverse=True)"
   ]
  },
  {
   "cell_type": "code",
   "execution_count": 35,
   "id": "0b4fb5e3",
   "metadata": {},
   "outputs": [
    {
     "data": {
      "text/plain": [
       "[('_____ can selectively enhance the growth and proliferation of mutated cells.',\n",
       "  0.20802751,\n",
       "  '8653'),\n",
       " ('Which is a part of the innate immune defenses', 0.19895679, '8219'),\n",
       " ('what cells does tbev effect', 0.19841647, '594203'),\n",
       " ('what organelle is most active in causing programmed cell death',\n",
       "  0.19757584,\n",
       "  '883402'),\n",
       " ('what is the function in humans of the protein produced from that gene',\n",
       "  0.19436993,\n",
       "  '822257'),\n",
       " ('is a disease-fighting protein created', 0.19391418, '399823'),\n",
       " ('role of nf kb in inflammatory disease', 0.19186991, '489746'),\n",
       " ('what processes are g0 cells unable to do', 0.19105671, '888744'),\n",
       " ('what is the ret gene associated with?', 0.1893949, '844271'),\n",
       " ('why is receptor mediated endocytosis important', 0.18610172, '1071929'),\n",
       " ('inflammation is accompanied by', 0.18576144, '395826'),\n",
       " ('what attacks helper t cells?', 0.18470383, '1165309'),\n",
       " ('what do nucleosomes inhibit?', 0.18462797, '1162925'),\n",
       " ('RNA and polypeptides interact with what cell location', 0.18418495, '5645'),\n",
       " ('what kind of protein was expressed in macrophage', 0.18265638, '870210'),\n",
       " ('which nonspecific defense cells specialize in attacking cancer cells and virus-infected cells?',\n",
       "  0.18261856,\n",
       "  '1014080'),\n",
       " ('which disease is a trinucleotide repeat expansion?', 0.18244728, '1008579'),\n",
       " ('is her2 a receptor tyrosine kinase', 0.18207446, '412158'),\n",
       " ('is gapdh a cell surface protein in humans?', 0.18033615, '410826'),\n",
       " ('is a protein that regulates the cell cycle', 0.17875564, '1175123'),\n",
       " ('hormone responsible for poor immune system', 0.1782078, '205369'),\n",
       " ('what is the function of t cytotoxic cells?', 0.17713672, '822678'),\n",
       " ('interferon gamma activates what??', 0.17678753, '397052'),\n",
       " ('k1 capsule and immune response', 0.17677349, '433720'),\n",
       " ('which cells are affected in digeorge syndrome', 0.17563607, '1006666'),\n",
       " ('what type of immunity uses helper cells and killer cells to identify and destroy abnormal cells?congenital',\n",
       "  0.17522766,\n",
       "  '1145038'),\n",
       " ('causes increased reticulocyte count', 0.17508209, '85117'),\n",
       " ('innate immune system defenses include ________.', 0.17330457, '396238'),\n",
       " ('what hormone is responsible for the maturation of t lymphocytes?',\n",
       "  0.17311469,\n",
       "  '669399'),\n",
       " ('diseases caused by dysfunctional cells', 0.17226249, '152441'),\n",
       " ('which part of the cell membrane helps in cell-cell signaling?',\n",
       "  0.17180564,\n",
       "  '1139649'),\n",
       " ('what molecule is responsible for jaundice', 0.17136359, '878531'),\n",
       " ('mechanism which indicator enters cells As', 0.17084065, '450822'),\n",
       " ('what contains protein that causes the movement of vesicles in cell division',\n",
       "  0.1699113,\n",
       "  '1164217'),\n",
       " ('what enzyme is important for regulating lipogenesis', 0.16981769, '657522'),\n",
       " ('disease that is caused by a single nucleotide change', 0.1696606, '152376'),\n",
       " ('What is the name for molecules that provoke a specific immune response',\n",
       "  0.16930965,\n",
       "  '7599'),\n",
       " ('what hormone stimulates glycogenesis?', 0.16779965, '669436'),\n",
       " ('what cells in the blood help defend against infection?',\n",
       "  0.16734415,\n",
       "  '594211'),\n",
       " ('receptors used between innate and adaptive immune systems',\n",
       "  0.16700283,\n",
       "  '485914'),\n",
       " ('What cells does aldosterone affect', 0.16688626, '6948'),\n",
       " ('how aml cells escape from t cells?', 0.16630867, '207081'),\n",
       " ('which client organ is protected by microglial cells?',\n",
       "  0.16620857,\n",
       "  '1007080'),\n",
       " ('what kind of diseases do certain organelles cause', 0.16605064, '867380'),\n",
       " ('which process takes place within all cells in order to maintain homeostasis',\n",
       "  0.16581395,\n",
       "  '1018214'),\n",
       " ('what does ribosomes do?', 0.16572736, '647083'),\n",
       " ('what is the condition caused by a genetic mutation of the gene that controls the production of hemoglobin?',\n",
       "  0.16555601,\n",
       "  '812067'),\n",
       " ('explain how the body fights disease', 0.1653774, '183674'),\n",
       " ('ehat is the most important contributing factor to premature death',\n",
       "  0.1652362,\n",
       "  '179195'),\n",
       " ('what does ttn gene do', 0.16515519, '654258'),\n",
       " ('which body system produces proteins that help fight infections?',\n",
       "  0.1651296,\n",
       "  '1006186'),\n",
       " ('cancer than is both estrogen and progesterone receptive',\n",
       "  0.16507839,\n",
       "  '81680'),\n",
       " ('is coenzyme q10 good for cancer', 0.16498889, '406755'),\n",
       " ('what gene causes atherosclerosis', 0.16444692, '663298'),\n",
       " ('The primary immune response involves', 0.16431105, '6299'),\n",
       " ('what is role of cd11c dendritic cell', 0.164226, '792204'),\n",
       " ('what activates macrophages', 0.16416153, '549595'),\n",
       " ('ige has a fc region that binds to surface receptors', 0.1636171, '392372'),\n",
       " ('cell types are specifically responsible for humoral immunity',\n",
       "  0.16351911,\n",
       "  '89596'),\n",
       " ('what inhibits FBPase', 0.16345173, '671203'),\n",
       " ('which cells are the most sensitive to oxygen deprivation',\n",
       "  0.16342154,\n",
       "  '1006680'),\n",
       " ('which immunoglobulin is the most abundant, protects against bacterial & viral infections and is the only immunoglobulin which passes through the placenta to the developing fetus',\n",
       "  0.16330062,\n",
       "  '1010821'),\n",
       " ('which cells are involved in antibody-mediated immune response?',\n",
       "  0.1631934,\n",
       "  '1006677'),\n",
       " ('what happens when homeostasis is not maintained?', 0.16304955, '667207'),\n",
       " ('which is a function of cyclins', 0.16300179, '1011123'),\n",
       " ('most genetic disorders of humans are caused by', 0.16284749, '458015'),\n",
       " ('autosomal dominant disorder diseases', 0.16268244, '30114'),\n",
       " ('what organ controls the two types of specific immune functions?',\n",
       "  0.16265284,\n",
       "  '883162'),\n",
       " ('mitosis is facilitated by what?', 0.16221623, '455074'),\n",
       " ('which viruses are associated with the development of cancer?',\n",
       "  0.16210893,\n",
       "  '1022665'),\n",
       " ('what tissue is the effector', 0.16166675, '906004'),\n",
       " ('result of a mutation in a suppressor gene', 0.1615794, '488542'),\n",
       " ('what cells are responsible for cell-mediated immunological memory in which the immune response is expedited upon subsequent exposure to an antigen?',\n",
       "  0.16138735,\n",
       "  '594174'),\n",
       " ('impact biomedicines', 0.16134024, '392839'),\n",
       " ('what enzyme is more active in a human cell', 0.16105169, '657525'),\n",
       " ('how does The Golgi apparatus helps to maintain cellular homeostasis',\n",
       "  0.16064456,\n",
       "  '224649'),\n",
       " ('which type of t cell is responsible for attacking infected host cells?',\n",
       "  0.16059381,\n",
       "  '1022223'),\n",
       " ('sickle cell disease is caused by a change in', 0.1605593, '497387'),\n",
       " ('what is the enzyme that helps with transcription', 0.16040786, '820394'),\n",
       " ('is Her2 a gene', 0.16039886, '399296'),\n",
       " ('which system fights off disease?', 0.1601566, '1020753'),\n",
       " ('what is the role of troponin ?', 0.16010687, '844869'),\n",
       " ('what inhibits purine biosynthesis', 0.15996854, '671208'),\n",
       " ('high temperatures can damage and kill cancer cells', 0.15981042, '201878'),\n",
       " ('which drug is biologically engineered and inhibits tumor necrosis factor',\n",
       "  0.15979399,\n",
       "  '1008807'),\n",
       " ('egfr inhibitor', 0.15971303, '1183820'),\n",
       " ('what kind of receptor does dominant tas2r38 encode', 0.15949637, '870279'),\n",
       " ('disease is an inherited condition characterized by the absence of a single lysosomal enzyme called hex a',\n",
       "  0.15942377,\n",
       "  '152301'),\n",
       " ('what cell causes bardet biedl syndrome', 0.15922278, '594063'),\n",
       " ('diabetes mellitus is a disease caused by a deficiency of',\n",
       "  0.1590648,\n",
       "  '142787'),\n",
       " ('is produced by the alpha cells of the pancreas.', 0.15879317, '421666'),\n",
       " ('what gene is affected during skin cancer', 0.15877631, '663308'),\n",
       " ('what are two molecules that participate in gluconeogenesis',\n",
       "  0.15871459,\n",
       "  '576380'),\n",
       " ('what gene mutation has highest risk for developing cancer',\n",
       "  0.15860358,\n",
       "  '663321'),\n",
       " ('does cdna contain utr', 0.15834847, '164387'),\n",
       " ('the abo blood types are controlled by', 0.15812132, '514073'),\n",
       " ('outline the mechanism by which steroid hormones affect target cells',\n",
       "  0.15809946,\n",
       "  '470627'),\n",
       " ('somatic cell mutation', 0.15809152, '500274'),\n",
       " ('which immune system components contribute to the immune defense by coordinating immune defenses',\n",
       "  0.15808001,\n",
       "  '1010818'),\n",
       " ('what cells are involved in hip injury', 0.15806864, '594167')]"
      ]
     },
     "execution_count": 35,
     "metadata": {},
     "output_type": "execute_result"
    }
   ],
   "source": [
    "sim_pids[:100]"
   ]
  },
  {
   "cell_type": "code",
   "execution_count": 43,
   "id": "95d012d4",
   "metadata": {},
   "outputs": [],
   "source": [
    "sorted_qids = [qid for _, _, qid in sim_pids]\n",
    "qid2score = {qid: score for _, score, qid in sim_pids}"
   ]
  },
  {
   "cell_type": "code",
   "execution_count": 96,
   "id": "a9aa03bf",
   "metadata": {},
   "outputs": [],
   "source": [
    "import pickle\n",
    "pickle.dump(qid2score, open(\"qid2score.pkl\", \"wb\"))"
   ]
  },
  {
   "cell_type": "code",
   "execution_count": 51,
   "id": "00f85e3b",
   "metadata": {},
   "outputs": [],
   "source": [
    "for i in range(len(dataset['train'])):\n",
    "    dataset['train'][i]['score'] = qid2score[dataset['train'][i]['query_id']]"
   ]
  },
  {
   "cell_type": "code",
   "execution_count": 99,
   "id": "471e1a0f",
   "metadata": {},
   "outputs": [
    {
     "data": {
      "text/plain": [
       "datasets.arrow_dataset.Dataset"
      ]
     },
     "execution_count": 99,
     "metadata": {},
     "output_type": "execute_result"
    }
   ],
   "source": [
    "type(dataset['train'])"
   ]
  },
  {
   "cell_type": "code",
   "execution_count": 102,
   "id": "ec9020f6",
   "metadata": {},
   "outputs": [
    {
     "data": {
      "text/plain": [
       "{'query_id': '1000684',\n",
       " 'query': 'where is your perineum',\n",
       " 'positive_passages': [{'docid': '6133670',\n",
       "   'title': 'perineum',\n",
       "   'text': 'That part of the floor of the PELVIS that lies between the tops of the thighs. In the male, the perineum lies between the anus and the scrotum. In the female, it includes the external genitalia. The area between the opening of the vagina and the anus in a woman, or the area between the scrotum and the anus in a man.'}],\n",
       " 'negative_passages': [{'docid': '6475882',\n",
       "   'title': 'After the birth',\n",
       "   'text': 'To help the perineum to heal. 1  Keep the area cold by using a wrapped ice pack for the first 24 to 72 hours. 2  This decreases the pain and swelling which is important for healing and comfort. 3  Have the wrapped ice pack on for 10 to 20 minutes at the most each time. 4  Change sanitary pads often to keep the perineum dry.'},\n",
       "  {'docid': '8032962',\n",
       "   'title': 'Basal-cell carcinoma',\n",
       "   'text': 'Aberrant basal cell carcinoma is characterized by the formation of basal-cell carcinoma in the absence of any apparent carcinogenic factor, occurring in odd sites such as the scrotum, vulva, perineum, nipple, and axilla.'},\n",
       "  {'docid': '5778063',\n",
       "   'title': 'What Causes a Swollen Perineum Female',\n",
       "   'text': 'But then, it is becoming really complicated if the impulse or the stimulation of the sexual activity to be happened is not really proper. Men and women, both often have serious problem that make them lost their passion in doing the sexual activity. A swollen perineum might be the real problem for them.This kind of thing might make their sexual activity really not interesting at all. Because of that, you have to be aware of what causes a swollen perineum female, so that you will be able to have a wonderful sex so often in your life.f the female swollen perineum female ignore the useful usage of the lubrication, and then she and her partner do a very intense sexual activity with a very strong action, like strong penetration from the male, surely her perineum will easily get swollen. This some what causes a swollen perineum female.'},\n",
       "  {'docid': '4468567',\n",
       "   'title': 'Genital Warts',\n",
       "   'text': 'Genital warts can also occur at multiple sites in the anogenital epithelium or within the anogenital tract (e.g., cervix, vagina, urethra, perineum, perianal skin, and scrotum). â\\x80¢ Condylomata lata are a manifestation of secondary syphilis.'},\n",
       "  {'docid': '3985976',\n",
       "   'title': '-',\n",
       "   'text': 'Perineoplasty. The area between the vaginal opening (introitus) and the anus, known as the perineum or by the slang term â\\x80\\x9ctaint,â\\x80\\x9d can tear during childbirth or become scarred from a surgical episiotomy or become stretched out as a result of obesity.bout Perineoplasty. During childbirth, itâ\\x80\\x99s not uncommon for physicians to perform an episiotomy, an incision made through the perineum that temporarily widens the introitus to allow an easier birthing process and preemptively prevent the possibility of a spontaneous tear.'},\n",
       "  {'docid': '8420371',\n",
       "   'title': 'Perineum pain',\n",
       "   'text': 'Perineum pain. Perineum pain: Introduction. Perineum pain: pain in the perineal region due to involvement of the skin and muscle. See detailed information below for a list of 16 causes of Perineum pain, Symptom Checker, including diseases and drug side effect causes. Â» Review Causes of Perineum pain: Causes | Symptom Checker Â».'},\n",
       "  {'docid': '6292462',\n",
       "   'title': '-',\n",
       "   'text': 'Figure: MU 3 The Spongiose Urethra This is the longest part of the male urethra. Measuring about 15cm with a diameter of 6mm, it extends from the perineal membrane to the external urethral meatus of the glans penis. It is located in the perineum within the substance of the corpus spongiosus of the penis.t is the widest and most distensible part of the male urethra. 3. Membranous Urethra: This part measures about 1cm in length, with a 6mm wide stellate lumen and traverses the urogenital diaphragm â\\x80\\x93 A muscular sheet. 4. Spongiose Urethra: This is about 15cm long with a 6mm wide slit-like lumen.'},\n",
       "  {'docid': '2455289',\n",
       "   'title': '-',\n",
       "   'text': 'Perineum bruise: Introduction. Perineum bruise: Usually occurs due to trauma to the groin area. See detailed information below for a list of 2 causes of Perineum bruise, including diseases and drug side effect causes. Causes of Perineum bruise: The following medical conditions are some of the possible causes of Perineum bruise.'},\n",
       "  {'docid': '465746',\n",
       "   'title': 'Pain & IC',\n",
       "   'text': 'Interstitial cystitis (IC) can be severely painful and incapacitating and may require aggressive pain management medicines such as opiate therapy when more conservative approaches fail. Place a cold pack, heating pad or hot water bottle directly on the perineum.'},\n",
       "  {'docid': '2970386',\n",
       "   'title': '-',\n",
       "   'text': 'The accessory glands of the male reproductive system include the seminal vesicles, prostate, and the glans. penis. II. Perineum and Scrotum. â\\x98\\x9e Concept: The perineum is the specific portion of the pelvic region that contains the external genitalia and the anal. opening.'},\n",
       "  {'docid': '639237',\n",
       "   'title': '-',\n",
       "   'text': 'Definition. An episiotomy is a surgical incision made in the area between the vagina and anus (perineum). This is done during the last stages of labor and delivery to expand the opening of the vagina to prevent tearing during the delivery of the baby.'},\n",
       "  {'docid': '4468123',\n",
       "   'title': 'Prostate biopsy',\n",
       "   'text': 'Prostate biopsy samples can be collected in different ways. Passing the needle through the wall of the rectum (transrectal biopsy). This is the most common way of performing a prostate biopsy. Inserting the needle through the area of skin between the anus and scrotum (transperineal biopsy). A small cut is made in the area of skin (perineum) between the anus and the scrotum.'},\n",
       "  {'docid': '216323',\n",
       "   'title': 'Disorders of Vulva',\n",
       "   'text': 'The inner lips are called the labia minora. The clitoris is at the top of the inner lips For most women, the clitoris is a center of sexual pleasure. It is partly covered by a fold of tissue called the hood. The perineum is the area between the anus and vagina. The vestibule is found within the inner lips.'},\n",
       "  {'docid': '1672627',\n",
       "   'title': '-',\n",
       "   'text': 'The procedure is the same as it is for routine perineal care with one difference: After you have washed, rinsed, and dried the perineal area, apply a cream or ointment on the perineum and surrounding skin as prescribed to act as a barrier that will help protect the patient s skin.ale perineal cleaning. Wash the patient s upper thighs and inguinal area. Clean the tip of the penis at the urethral meatus in a circular motion from the center outward. Wash the shaft of the penis from the tip to the base in a downward motion. Wash the scrotom including the underlying skin folds.'},\n",
       "  {'docid': '2455291',\n",
       "   'title': 'Perineum Contusion',\n",
       "   'text': 'Perineum Contusion. A direct blow to the floor of the pelvis and associated structures including the. genitals, causing bruising of skin and underlying tissues. Contusions cause bleeding from ruptured small capillaries that allow blood to infiltrate muscles, tendons, nerves or other soft tissue.'},\n",
       "  {'docid': '2781223',\n",
       "   'title': 'Virilization',\n",
       "   'text': 'In the prenatal period, virilization refers to closure of the perineum, thinning and wrinkling (rugation) of the scrotum, growth of the phallus, and closure of the urethral groove to the tip of the penis. In this context, masculinization is synonymous with virilization.'},\n",
       "  {'docid': '3874666',\n",
       "   'title': '-',\n",
       "   'text': 'Sexual activity and oral contraception may also be contributing factors and infections may extend to include the perineum, the vulva and the entire inguinal area. Chronic refractory vaginal candidiasis, associated with oral candidiasis, may also be a presentation of HIV infection or AIDS.. Chronic mucocutaneous candidiasis: Chronic mucocutaneous candidiasis is a form of persistent candidiasis, usually caused by C. albicans, of the skin, nails and mucous membranes that occurs in patients with various metabolic disturbances to cell-mediated immunity.'},\n",
       "  {'docid': '4901662',\n",
       "   'title': 'Talk',\n",
       "   'text': \"Internal stitches sticking out/not dissolving - TMI. I had a third degree tear 6 weeks ago and thankfully it's healed up fine. However, a couple of days ago I discovered there was what felt like a sharp point sticking out of the skin in my perineum. As it happened, I had a six week follow-up appointment at the hospital in the afternoon so I said I thought I could feel a stitch.\"},\n",
       "  {'docid': '216315',\n",
       "   'title': 'Vulva',\n",
       "   'text': 'The skin of the vulva is more delicate than other areas of skin. Pubic hair is much coarser than other body hair. It appears at puberty and is considered a secondary sex characteristic. The mons pubis and the labia majora become covered by pubic hair and it can also grow on the inner thighs and perineum.'},\n",
       "  {'docid': '3258709',\n",
       "   'title': 'Severe Perineal Tear During First Childbirth Increases Risk Of Recurrent Vaginal Tear In Future Deliveries',\n",
       "   'text': 'Tearing during delivery generally occurs in the perineum â\\x80\\x94 the area between the vagina and anus. The tear ranges from being superficial, when the top layer of the perineum gets grazed, to second-degree tear, which extends from the vaginal skin to the underlying tissue.'},\n",
       "  {'docid': '7681692',\n",
       "   'title': '-',\n",
       "   'text': 'SECURA Personal Cleanser Antimicrobial Skin Cleanser. Features & Benefits. No-rinse, one-step cleansing for perineum and body saves time; pH balanced; Helps control odor; Pediatrician tested; Indications. Antimicrobial skin cleanser, for perineum and body, aids in removal of urine and feces or other foreign material. Warnings. For external use only.'},\n",
       "  {'docid': '2163086',\n",
       "   'title': 'Definitions &Translations',\n",
       "   'text': 'Freebase(0.00 / 0 votes)Rate this definition: In some male mammals, the scrotum is a dual-chambered protuberance of skin and muscle, containing the testicles and divided by a septum. It is an extension of the perineum, and is located between the penis and anus. In humans and some other mammals, the scrotum becomes covered with pubic hairs at puberty.'},\n",
       "  {'docid': '2455294',\n",
       "   'title': '-',\n",
       "   'text': 'Signs & Symptoms. 1  Swelling in the perineal area-either superficial or deep. 2  Pain in the perineum. 3  Feeling of firmness when pressure is exerted. 4  Tenderness. Discoloration under the skin beginning with redness and progressing to the characteristic black and blue discoloration.'},\n",
       "  {'docid': '3319280',\n",
       "   'title': 'Tickling',\n",
       "   'text': 'While the palm of the hand is far more sensitive to touch, some people find that the underarms are the most ticklish. Other commonly ticklish areas include the feet, sides of the torso, neck, knee, midriff, perineum, navel, and the ribs. Some evidence suggests that laughing associated with tickling is a nervous reaction that can be triggered; indeed, very ticklish people often start laughing before actually being tickled.'},\n",
       "  {'docid': '1548886',\n",
       "   'title': 'Kevin Conrad',\n",
       "   'text': 'The operator is accountable for all swabs, sutures and needles before, during and after the procedure. Pain Relief during Suturing If the woman has an epidural, ensure that it provides adequate pain relief. If it does not, then local anaesthesia may be used in addition. The perineum is infiltrated using lidocaine 1%.f. the 152 midwives who responded to the questionnaire and who regularly undertook perineal repair, only. 47% stated that they used the new method exclusively, 28% were using a combination of the old and new. technique and 25% were exclusively using the old technique.'},\n",
       "  {'docid': '5952791',\n",
       "   'title': 'Perineum',\n",
       "   'text': 'The perineum is an erogenous zone for both males and females. Perineal tears and episiotomy often occur in childbirth with first-time deliveries, but the risk of these injuries can be reduced by preparing the perineum, often through massage.'},\n",
       "  {'docid': '7572611',\n",
       "   'title': 'User Contributed Dictionary',\n",
       "   'text': 'The area between the labia minora is called the vulval vestibule, and it contains the vaginal opening and the urinary meatus. The urinary meatus is located below the clitoris and just in front of the vagina. The opening of the vagina is located at the bottom of the vulval vestibule, toward the perineum.'},\n",
       "  {'docid': '1652808',\n",
       "   'title': 'The Anatomy of the Perineum',\n",
       "   'text': 'The perineum is the region between the thighs inferior to the pelvic diaphragm. The boundaries of this region are the same as that for the pelvic outlet, namely the pubic symphysis, ischiopubic rami, sacrotuberous ligaments, and coccyx. The perineum has a roof formed by the pelvic diaphragm and a floor of fascia and skin.'},\n",
       "  {'docid': '3180745',\n",
       "   'title': '-',\n",
       "   'text': 'Bidets are primarily used to wash and clean the genitalia, perineum, inner buttocks, and anus. Traditional designs may also be used to clean any other part of the human body, such as the feet.Despite appearing similar to a toilet, a traditional bidet may be more accurately compared to a washbasin or bathtub.n northern Europe (with the exception of Finland), bidets are rare. They are also common in the Middle East, in countries such as Armenia, Iran, Iraq, Kuwait, Saudi Arabia, Qatar, the UAE, Turkey, Lebanon, Palestine, Syria, and Jordan.'},\n",
       "  {'docid': '4979118',\n",
       "   'title': 'Bicycle Seat Neuropathy',\n",
       "   'text': 'The main treatment for bicycle seat neuropathy is the adjustment of the bike seat and proper bike position, which may include tilting the nose of the seat down or lowering the seat height to relieve pressure from the perineum.'}]}"
      ]
     },
     "execution_count": 102,
     "metadata": {},
     "output_type": "execute_result"
    }
   ],
   "source": [
    "dataset['train'][1]"
   ]
  },
  {
   "cell_type": "code",
   "execution_count": 68,
   "id": "d2e08a7f",
   "metadata": {},
   "outputs": [
    {
     "data": {
      "application/vnd.jupyter.widget-view+json": {
       "model_id": "804c2e5dc1324ebca7a86d2bdc59d663",
       "version_major": 2,
       "version_minor": 0
      },
      "text/plain": [
       "  0%|          | 0/400782 [00:00<?, ?ex/s]"
      ]
     },
     "metadata": {},
     "output_type": "display_data"
    }
   ],
   "source": [
    "def add_score(example):\n",
    "    example[\"score\"] = qid2score[example['query_id']]\n",
    "    return example\n",
    "\n",
    "dataset_train = dataset['train'].map(add_score)"
   ]
  },
  {
   "cell_type": "code",
   "execution_count": 104,
   "id": "d6698cda",
   "metadata": {},
   "outputs": [
    {
     "data": {
      "text/plain": [
       "{'query_id': '1000684',\n",
       " 'query': 'where is your perineum',\n",
       " 'positive_passages': [{'docid': '6133670',\n",
       "   'title': 'perineum',\n",
       "   'text': 'That part of the floor of the PELVIS that lies between the tops of the thighs. In the male, the perineum lies between the anus and the scrotum. In the female, it includes the external genitalia. The area between the opening of the vagina and the anus in a woman, or the area between the scrotum and the anus in a man.'}],\n",
       " 'negative_passages': [{'docid': '6475882',\n",
       "   'title': 'After the birth',\n",
       "   'text': 'To help the perineum to heal. 1  Keep the area cold by using a wrapped ice pack for the first 24 to 72 hours. 2  This decreases the pain and swelling which is important for healing and comfort. 3  Have the wrapped ice pack on for 10 to 20 minutes at the most each time. 4  Change sanitary pads often to keep the perineum dry.'},\n",
       "  {'docid': '8032962',\n",
       "   'title': 'Basal-cell carcinoma',\n",
       "   'text': 'Aberrant basal cell carcinoma is characterized by the formation of basal-cell carcinoma in the absence of any apparent carcinogenic factor, occurring in odd sites such as the scrotum, vulva, perineum, nipple, and axilla.'},\n",
       "  {'docid': '5778063',\n",
       "   'title': 'What Causes a Swollen Perineum Female',\n",
       "   'text': 'But then, it is becoming really complicated if the impulse or the stimulation of the sexual activity to be happened is not really proper. Men and women, both often have serious problem that make them lost their passion in doing the sexual activity. A swollen perineum might be the real problem for them.This kind of thing might make their sexual activity really not interesting at all. Because of that, you have to be aware of what causes a swollen perineum female, so that you will be able to have a wonderful sex so often in your life.f the female swollen perineum female ignore the useful usage of the lubrication, and then she and her partner do a very intense sexual activity with a very strong action, like strong penetration from the male, surely her perineum will easily get swollen. This some what causes a swollen perineum female.'},\n",
       "  {'docid': '4468567',\n",
       "   'title': 'Genital Warts',\n",
       "   'text': 'Genital warts can also occur at multiple sites in the anogenital epithelium or within the anogenital tract (e.g., cervix, vagina, urethra, perineum, perianal skin, and scrotum). â\\x80¢ Condylomata lata are a manifestation of secondary syphilis.'},\n",
       "  {'docid': '3985976',\n",
       "   'title': '-',\n",
       "   'text': 'Perineoplasty. The area between the vaginal opening (introitus) and the anus, known as the perineum or by the slang term â\\x80\\x9ctaint,â\\x80\\x9d can tear during childbirth or become scarred from a surgical episiotomy or become stretched out as a result of obesity.bout Perineoplasty. During childbirth, itâ\\x80\\x99s not uncommon for physicians to perform an episiotomy, an incision made through the perineum that temporarily widens the introitus to allow an easier birthing process and preemptively prevent the possibility of a spontaneous tear.'},\n",
       "  {'docid': '8420371',\n",
       "   'title': 'Perineum pain',\n",
       "   'text': 'Perineum pain. Perineum pain: Introduction. Perineum pain: pain in the perineal region due to involvement of the skin and muscle. See detailed information below for a list of 16 causes of Perineum pain, Symptom Checker, including diseases and drug side effect causes. Â» Review Causes of Perineum pain: Causes | Symptom Checker Â».'},\n",
       "  {'docid': '6292462',\n",
       "   'title': '-',\n",
       "   'text': 'Figure: MU 3 The Spongiose Urethra This is the longest part of the male urethra. Measuring about 15cm with a diameter of 6mm, it extends from the perineal membrane to the external urethral meatus of the glans penis. It is located in the perineum within the substance of the corpus spongiosus of the penis.t is the widest and most distensible part of the male urethra. 3. Membranous Urethra: This part measures about 1cm in length, with a 6mm wide stellate lumen and traverses the urogenital diaphragm â\\x80\\x93 A muscular sheet. 4. Spongiose Urethra: This is about 15cm long with a 6mm wide slit-like lumen.'},\n",
       "  {'docid': '2455289',\n",
       "   'title': '-',\n",
       "   'text': 'Perineum bruise: Introduction. Perineum bruise: Usually occurs due to trauma to the groin area. See detailed information below for a list of 2 causes of Perineum bruise, including diseases and drug side effect causes. Causes of Perineum bruise: The following medical conditions are some of the possible causes of Perineum bruise.'},\n",
       "  {'docid': '465746',\n",
       "   'title': 'Pain & IC',\n",
       "   'text': 'Interstitial cystitis (IC) can be severely painful and incapacitating and may require aggressive pain management medicines such as opiate therapy when more conservative approaches fail. Place a cold pack, heating pad or hot water bottle directly on the perineum.'},\n",
       "  {'docid': '2970386',\n",
       "   'title': '-',\n",
       "   'text': 'The accessory glands of the male reproductive system include the seminal vesicles, prostate, and the glans. penis. II. Perineum and Scrotum. â\\x98\\x9e Concept: The perineum is the specific portion of the pelvic region that contains the external genitalia and the anal. opening.'},\n",
       "  {'docid': '639237',\n",
       "   'title': '-',\n",
       "   'text': 'Definition. An episiotomy is a surgical incision made in the area between the vagina and anus (perineum). This is done during the last stages of labor and delivery to expand the opening of the vagina to prevent tearing during the delivery of the baby.'},\n",
       "  {'docid': '4468123',\n",
       "   'title': 'Prostate biopsy',\n",
       "   'text': 'Prostate biopsy samples can be collected in different ways. Passing the needle through the wall of the rectum (transrectal biopsy). This is the most common way of performing a prostate biopsy. Inserting the needle through the area of skin between the anus and scrotum (transperineal biopsy). A small cut is made in the area of skin (perineum) between the anus and the scrotum.'},\n",
       "  {'docid': '216323',\n",
       "   'title': 'Disorders of Vulva',\n",
       "   'text': 'The inner lips are called the labia minora. The clitoris is at the top of the inner lips For most women, the clitoris is a center of sexual pleasure. It is partly covered by a fold of tissue called the hood. The perineum is the area between the anus and vagina. The vestibule is found within the inner lips.'},\n",
       "  {'docid': '1672627',\n",
       "   'title': '-',\n",
       "   'text': 'The procedure is the same as it is for routine perineal care with one difference: After you have washed, rinsed, and dried the perineal area, apply a cream or ointment on the perineum and surrounding skin as prescribed to act as a barrier that will help protect the patient s skin.ale perineal cleaning. Wash the patient s upper thighs and inguinal area. Clean the tip of the penis at the urethral meatus in a circular motion from the center outward. Wash the shaft of the penis from the tip to the base in a downward motion. Wash the scrotom including the underlying skin folds.'},\n",
       "  {'docid': '2455291',\n",
       "   'title': 'Perineum Contusion',\n",
       "   'text': 'Perineum Contusion. A direct blow to the floor of the pelvis and associated structures including the. genitals, causing bruising of skin and underlying tissues. Contusions cause bleeding from ruptured small capillaries that allow blood to infiltrate muscles, tendons, nerves or other soft tissue.'},\n",
       "  {'docid': '2781223',\n",
       "   'title': 'Virilization',\n",
       "   'text': 'In the prenatal period, virilization refers to closure of the perineum, thinning and wrinkling (rugation) of the scrotum, growth of the phallus, and closure of the urethral groove to the tip of the penis. In this context, masculinization is synonymous with virilization.'},\n",
       "  {'docid': '3874666',\n",
       "   'title': '-',\n",
       "   'text': 'Sexual activity and oral contraception may also be contributing factors and infections may extend to include the perineum, the vulva and the entire inguinal area. Chronic refractory vaginal candidiasis, associated with oral candidiasis, may also be a presentation of HIV infection or AIDS.. Chronic mucocutaneous candidiasis: Chronic mucocutaneous candidiasis is a form of persistent candidiasis, usually caused by C. albicans, of the skin, nails and mucous membranes that occurs in patients with various metabolic disturbances to cell-mediated immunity.'},\n",
       "  {'docid': '4901662',\n",
       "   'title': 'Talk',\n",
       "   'text': \"Internal stitches sticking out/not dissolving - TMI. I had a third degree tear 6 weeks ago and thankfully it's healed up fine. However, a couple of days ago I discovered there was what felt like a sharp point sticking out of the skin in my perineum. As it happened, I had a six week follow-up appointment at the hospital in the afternoon so I said I thought I could feel a stitch.\"},\n",
       "  {'docid': '216315',\n",
       "   'title': 'Vulva',\n",
       "   'text': 'The skin of the vulva is more delicate than other areas of skin. Pubic hair is much coarser than other body hair. It appears at puberty and is considered a secondary sex characteristic. The mons pubis and the labia majora become covered by pubic hair and it can also grow on the inner thighs and perineum.'},\n",
       "  {'docid': '3258709',\n",
       "   'title': 'Severe Perineal Tear During First Childbirth Increases Risk Of Recurrent Vaginal Tear In Future Deliveries',\n",
       "   'text': 'Tearing during delivery generally occurs in the perineum â\\x80\\x94 the area between the vagina and anus. The tear ranges from being superficial, when the top layer of the perineum gets grazed, to second-degree tear, which extends from the vaginal skin to the underlying tissue.'},\n",
       "  {'docid': '7681692',\n",
       "   'title': '-',\n",
       "   'text': 'SECURA Personal Cleanser Antimicrobial Skin Cleanser. Features & Benefits. No-rinse, one-step cleansing for perineum and body saves time; pH balanced; Helps control odor; Pediatrician tested; Indications. Antimicrobial skin cleanser, for perineum and body, aids in removal of urine and feces or other foreign material. Warnings. For external use only.'},\n",
       "  {'docid': '2163086',\n",
       "   'title': 'Definitions &Translations',\n",
       "   'text': 'Freebase(0.00 / 0 votes)Rate this definition: In some male mammals, the scrotum is a dual-chambered protuberance of skin and muscle, containing the testicles and divided by a septum. It is an extension of the perineum, and is located between the penis and anus. In humans and some other mammals, the scrotum becomes covered with pubic hairs at puberty.'},\n",
       "  {'docid': '2455294',\n",
       "   'title': '-',\n",
       "   'text': 'Signs & Symptoms. 1  Swelling in the perineal area-either superficial or deep. 2  Pain in the perineum. 3  Feeling of firmness when pressure is exerted. 4  Tenderness. Discoloration under the skin beginning with redness and progressing to the characteristic black and blue discoloration.'},\n",
       "  {'docid': '3319280',\n",
       "   'title': 'Tickling',\n",
       "   'text': 'While the palm of the hand is far more sensitive to touch, some people find that the underarms are the most ticklish. Other commonly ticklish areas include the feet, sides of the torso, neck, knee, midriff, perineum, navel, and the ribs. Some evidence suggests that laughing associated with tickling is a nervous reaction that can be triggered; indeed, very ticklish people often start laughing before actually being tickled.'},\n",
       "  {'docid': '1548886',\n",
       "   'title': 'Kevin Conrad',\n",
       "   'text': 'The operator is accountable for all swabs, sutures and needles before, during and after the procedure. Pain Relief during Suturing If the woman has an epidural, ensure that it provides adequate pain relief. If it does not, then local anaesthesia may be used in addition. The perineum is infiltrated using lidocaine 1%.f. the 152 midwives who responded to the questionnaire and who regularly undertook perineal repair, only. 47% stated that they used the new method exclusively, 28% were using a combination of the old and new. technique and 25% were exclusively using the old technique.'},\n",
       "  {'docid': '5952791',\n",
       "   'title': 'Perineum',\n",
       "   'text': 'The perineum is an erogenous zone for both males and females. Perineal tears and episiotomy often occur in childbirth with first-time deliveries, but the risk of these injuries can be reduced by preparing the perineum, often through massage.'},\n",
       "  {'docid': '7572611',\n",
       "   'title': 'User Contributed Dictionary',\n",
       "   'text': 'The area between the labia minora is called the vulval vestibule, and it contains the vaginal opening and the urinary meatus. The urinary meatus is located below the clitoris and just in front of the vagina. The opening of the vagina is located at the bottom of the vulval vestibule, toward the perineum.'},\n",
       "  {'docid': '1652808',\n",
       "   'title': 'The Anatomy of the Perineum',\n",
       "   'text': 'The perineum is the region between the thighs inferior to the pelvic diaphragm. The boundaries of this region are the same as that for the pelvic outlet, namely the pubic symphysis, ischiopubic rami, sacrotuberous ligaments, and coccyx. The perineum has a roof formed by the pelvic diaphragm and a floor of fascia and skin.'},\n",
       "  {'docid': '3180745',\n",
       "   'title': '-',\n",
       "   'text': 'Bidets are primarily used to wash and clean the genitalia, perineum, inner buttocks, and anus. Traditional designs may also be used to clean any other part of the human body, such as the feet.Despite appearing similar to a toilet, a traditional bidet may be more accurately compared to a washbasin or bathtub.n northern Europe (with the exception of Finland), bidets are rare. They are also common in the Middle East, in countries such as Armenia, Iran, Iraq, Kuwait, Saudi Arabia, Qatar, the UAE, Turkey, Lebanon, Palestine, Syria, and Jordan.'},\n",
       "  {'docid': '4979118',\n",
       "   'title': 'Bicycle Seat Neuropathy',\n",
       "   'text': 'The main treatment for bicycle seat neuropathy is the adjustment of the bike seat and proper bike position, which may include tilting the nose of the seat down or lowering the seat height to relieve pressure from the perineum.'}]}"
      ]
     },
     "execution_count": 104,
     "metadata": {},
     "output_type": "execute_result"
    }
   ],
   "source": [
    "dataset['train'][1]"
   ]
  },
  {
   "cell_type": "code",
   "execution_count": 74,
   "id": "8ba7b294",
   "metadata": {},
   "outputs": [
    {
     "name": "stderr",
     "output_type": "stream",
     "text": [
      "Loading cached sorted indices for dataset at /home/y247xie/.cache/huggingface/datasets/Tevatron___ms_marco_passage/default/0.0.1/1874f5d9ae5257b9dbc7d8f89c76f8d4c321be6b660bb5df208e5e64decfa978/cache-852e6bcd236126db.arrow\n"
     ]
    }
   ],
   "source": [
    "dataset_train = dataset_train.sort('score')"
   ]
  },
  {
   "cell_type": "code",
   "execution_count": 118,
   "id": "271c2de2",
   "metadata": {},
   "outputs": [
    {
     "data": {
      "text/plain": [
       "40078"
      ]
     },
     "execution_count": 118,
     "metadata": {},
     "output_type": "execute_result"
    }
   ],
   "source": [
    "int(len(dataset_train)/10)"
   ]
  },
  {
   "cell_type": "code",
   "execution_count": 81,
   "id": "571e7d70",
   "metadata": {},
   "outputs": [],
   "source": [
    "dataset_train_1  = dataset_train[:int(len(dataset_train)/10)]"
   ]
  },
  {
   "cell_type": "code",
   "execution_count": 114,
   "id": "2dedf811",
   "metadata": {},
   "outputs": [],
   "source": [
    "i = 0\n",
    "data_test = dataset_train._getitem(slice(i, i + segment_size), decoded=False)"
   ]
  },
  {
   "cell_type": "code",
   "execution_count": 116,
   "id": "ad811bf2",
   "metadata": {},
   "outputs": [
    {
     "data": {
      "text/plain": [
       "dict_keys(['query_id', 'query', 'positive_passages', 'negative_passages', 'score'])"
      ]
     },
     "execution_count": 116,
     "metadata": {},
     "output_type": "execute_result"
    }
   ],
   "source": [
    "data_test.keys()"
   ]
  },
  {
   "cell_type": "code",
   "execution_count": 125,
   "id": "ae55c18b",
   "metadata": {},
   "outputs": [
    {
     "data": {
      "text/plain": [
       "-0.07216934859752655"
      ]
     },
     "execution_count": 125,
     "metadata": {},
     "output_type": "execute_result"
    }
   ],
   "source": [
    "dataset_train[1]['score']"
   ]
  },
  {
   "cell_type": "code",
   "execution_count": 145,
   "id": "36d2f55a",
   "metadata": {},
   "outputs": [],
   "source": [
    "dataset_segments_train = []\n",
    "\n",
    "score_segments = [0.03, 0.1, 1]\n",
    "score_segments_i = 0\n",
    "# segment_size = int(len(dataset_train)/10) + 1\n",
    "pre_i = 0\n",
    "for i in range(len(dataset_train)):\n",
    "    if dataset_train[i]['score'] > score_segments[score_segments_i]:\n",
    "        dataset_segments_train.append(dataset_train[pre_i:i])\n",
    "        score_segments_i += 1\n",
    "        pre_i = i\n",
    "        \n",
    "dataset_segments_train.append(dataset_train[pre_i:])"
   ]
  },
  {
   "cell_type": "code",
   "execution_count": 146,
   "id": "83a630c1",
   "metadata": {},
   "outputs": [
    {
     "data": {
      "text/plain": [
       "[319462, 75136, 6184]"
      ]
     },
     "execution_count": 146,
     "metadata": {},
     "output_type": "execute_result"
    }
   ],
   "source": [
    "[len(d['query']) for d in dataset_segments_train]"
   ]
  },
  {
   "cell_type": "code",
   "execution_count": 89,
   "id": "e97e6bd8",
   "metadata": {},
   "outputs": [],
   "source": [
    "# evenly split dataset, doesn't work with learning rate warm up and decay\n",
    "\n",
    "# dataset_segments_train = []\n",
    "\n",
    "# segment_size = int(len(dataset_train)/10) + 1\n",
    "# for i in range(0, len(dataset_train), segment_size):\n",
    "#     dataset_segments_train.append(dataset_train[i:i+segment_size])"
   ]
  },
  {
   "cell_type": "code",
   "execution_count": 119,
   "id": "63839629",
   "metadata": {},
   "outputs": [
    {
     "data": {
      "text/plain": [
       "11"
      ]
     },
     "execution_count": 119,
     "metadata": {},
     "output_type": "execute_result"
    }
   ],
   "source": [
    "len(dataset_segments_train)"
   ]
  },
  {
   "cell_type": "code",
   "execution_count": 108,
   "id": "7a3cf227",
   "metadata": {},
   "outputs": [
    {
     "data": {
      "text/plain": [
       "dict_keys(['query_id', 'query', 'positive_passages', 'negative_passages', 'score'])"
      ]
     },
     "execution_count": 108,
     "metadata": {},
     "output_type": "execute_result"
    }
   ],
   "source": [
    "dataset_segments_train[2].keys()"
   ]
  },
  {
   "cell_type": "code",
   "execution_count": 83,
   "id": "0fe0c4c3",
   "metadata": {},
   "outputs": [
    {
     "data": {
      "text/plain": [
       "(5, 40078)"
      ]
     },
     "execution_count": 83,
     "metadata": {},
     "output_type": "execute_result"
    }
   ],
   "source": [
    "len(dataset_train_1), int(len(dataset_train)/10)"
   ]
  },
  {
   "cell_type": "code",
   "execution_count": 87,
   "id": "f4056886",
   "metadata": {},
   "outputs": [
    {
     "data": {
      "text/plain": [
       "40078"
      ]
     },
     "execution_count": 87,
     "metadata": {},
     "output_type": "execute_result"
    }
   ],
   "source": [
    "len(dataset_train_1['query_id'])"
   ]
  },
  {
   "cell_type": "code",
   "execution_count": 80,
   "id": "86a5b4ac",
   "metadata": {},
   "outputs": [
    {
     "data": {
      "text/html": [
       "<div>\n",
       "<style scoped>\n",
       "    .dataframe tbody tr th:only-of-type {\n",
       "        vertical-align: middle;\n",
       "    }\n",
       "\n",
       "    .dataframe tbody tr th {\n",
       "        vertical-align: top;\n",
       "    }\n",
       "\n",
       "    .dataframe thead th {\n",
       "        text-align: right;\n",
       "    }\n",
       "</style>\n",
       "<table border=\"1\" class=\"dataframe\">\n",
       "  <thead>\n",
       "    <tr style=\"text-align: right;\">\n",
       "      <th></th>\n",
       "      <th>0</th>\n",
       "    </tr>\n",
       "  </thead>\n",
       "  <tbody>\n",
       "    <tr>\n",
       "      <th>count</th>\n",
       "      <td>400782.000000</td>\n",
       "    </tr>\n",
       "    <tr>\n",
       "      <th>mean</th>\n",
       "      <td>0.012950</td>\n",
       "    </tr>\n",
       "    <tr>\n",
       "      <th>std</th>\n",
       "      <td>0.028777</td>\n",
       "    </tr>\n",
       "    <tr>\n",
       "      <th>min</th>\n",
       "      <td>-0.075672</td>\n",
       "    </tr>\n",
       "    <tr>\n",
       "      <th>25%</th>\n",
       "      <td>-0.005908</td>\n",
       "    </tr>\n",
       "    <tr>\n",
       "      <th>50%</th>\n",
       "      <td>0.006377</td>\n",
       "    </tr>\n",
       "    <tr>\n",
       "      <th>75%</th>\n",
       "      <td>0.023939</td>\n",
       "    </tr>\n",
       "    <tr>\n",
       "      <th>max</th>\n",
       "      <td>0.208028</td>\n",
       "    </tr>\n",
       "  </tbody>\n",
       "</table>\n",
       "</div>"
      ],
      "text/plain": [
       "                   0\n",
       "count  400782.000000\n",
       "mean        0.012950\n",
       "std         0.028777\n",
       "min        -0.075672\n",
       "25%        -0.005908\n",
       "50%         0.006377\n",
       "75%         0.023939\n",
       "max         0.208028"
      ]
     },
     "execution_count": 80,
     "metadata": {},
     "output_type": "execute_result"
    }
   ],
   "source": [
    "import pandas as pd\n",
    "pd.DataFrame([score for _, score, qid in sim_pids]).describe()"
   ]
  },
  {
   "cell_type": "code",
   "execution_count": 123,
   "id": "bf4d8014",
   "metadata": {},
   "outputs": [
    {
     "data": {
      "text/plain": [
       "246996"
      ]
     },
     "execution_count": 123,
     "metadata": {},
     "output_type": "execute_result"
    }
   ],
   "source": [
    "sum([score > 0 and score < 0.1 for _, score, qid in sim_pids]) "
   ]
  },
  {
   "cell_type": "code",
   "execution_count": null,
   "id": "9216e54d",
   "metadata": {},
   "outputs": [],
   "source": []
  }
 ],
 "metadata": {
  "kernelspec": {
   "display_name": "Python 3 (ipykernel)",
   "language": "python",
   "name": "python3"
  },
  "language_info": {
   "codemirror_mode": {
    "name": "ipython",
    "version": 3
   },
   "file_extension": ".py",
   "mimetype": "text/x-python",
   "name": "python",
   "nbconvert_exporter": "python",
   "pygments_lexer": "ipython3",
   "version": "3.8.0"
  }
 },
 "nbformat": 4,
 "nbformat_minor": 5
}
