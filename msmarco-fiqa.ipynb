{
 "cells": [
  {
   "cell_type": "code",
   "execution_count": 1,
   "id": "5c55848b",
   "metadata": {},
   "outputs": [
    {
     "name": "stderr",
     "output_type": "stream",
     "text": [
      "2022-11-24 03:01:30.242847: I tensorflow/stream_executor/platform/default/dso_loader.cc:53] Successfully opened dynamic library libcudart.so.11.0\n"
     ]
    }
   ],
   "source": [
    "from tevatron.datasets.dataset import load_dataset"
   ]
  },
  {
   "cell_type": "code",
   "execution_count": 2,
   "id": "329fde95",
   "metadata": {},
   "outputs": [
    {
     "name": "stderr",
     "output_type": "stream",
     "text": [
      "Found cached dataset msmarco-passage (/home/y247xie/.cache/huggingface/datasets/Tevatron___msmarco-passage/default/0.0.1/1874f5d9ae5257b9dbc7d8f89c76f8d4c321be6b660bb5df208e5e64decfa978)\n"
     ]
    },
    {
     "data": {
      "application/vnd.jupyter.widget-view+json": {
       "model_id": "d905d057aa534e098647bb9298e1a6aa",
       "version_major": 2,
       "version_minor": 0
      },
      "text/plain": [
       "  0%|          | 0/2 [00:00<?, ?it/s]"
      ]
     },
     "metadata": {},
     "output_type": "display_data"
    }
   ],
   "source": [
    "dataset = load_dataset(\"Tevatron/msmarco-passage\",\n",
    "                      \"default\",\n",
    "                      data_files=None, cache_dir=None)"
   ]
  },
  {
   "cell_type": "code",
   "execution_count": 3,
   "id": "060b565c",
   "metadata": {},
   "outputs": [
    {
     "name": "stderr",
     "output_type": "stream",
     "text": [
      "Found cached dataset beir-corpus (/home/y247xie/.cache/huggingface/datasets/Tevatron___beir-corpus/fiqa/1.1.0/02e1318cd9412cdf85d3f039bf36bec0af49ddeeab2279d4cf19fe556af6f29a)\n"
     ]
    },
    {
     "data": {
      "application/vnd.jupyter.widget-view+json": {
       "model_id": "7051028e46ae4d65a64ce43c15cf16c0",
       "version_major": 2,
       "version_minor": 0
      },
      "text/plain": [
       "  0%|          | 0/1 [00:00<?, ?it/s]"
      ]
     },
     "metadata": {},
     "output_type": "display_data"
    }
   ],
   "source": [
    "corpus_fiqa = load_dataset(\"Tevatron/beir-corpus\",\n",
    "                      \"fiqa\",\n",
    "                      data_files=None, cache_dir=None)"
   ]
  },
  {
   "cell_type": "code",
   "execution_count": 4,
   "id": "1813081b",
   "metadata": {},
   "outputs": [
    {
     "name": "stderr",
     "output_type": "stream",
     "text": [
      "/home/y247xie/miniconda3/envs/tevatron/lib/python3.8/site-packages/huggingface_hub/snapshot_download.py:6: FutureWarning: snapshot_download.py has been made private and will no longer be available from version 0.11. Please use `from huggingface_hub import snapshot_download` to import the only public function in this module. Other members of the file may be changed without a deprecation notice.\n",
      "  warnings.warn(\n"
     ]
    }
   ],
   "source": [
    "from sentence_transformers import SentenceTransformer\n",
    "model = SentenceTransformer('all-mpnet-base-v2')\n"
   ]
  },
  {
   "cell_type": "markdown",
   "id": "561e89bd",
   "metadata": {},
   "source": [
    "## Calculate MSMARCO document embedding"
   ]
  },
  {
   "cell_type": "code",
   "execution_count": 5,
   "id": "e68ae701",
   "metadata": {},
   "outputs": [
    {
     "name": "stdout",
     "output_type": "stream",
     "text": [
      "CPU times: user 1h 16min 15s, sys: 3min 12s, total: 1h 19min 27s\n",
      "Wall time: 26min 29s\n"
     ]
    }
   ],
   "source": [
    "%%time\n",
    "\n",
    "import tqdm\n",
    "docid2doc_embedding = {}\n",
    "doc_batch = []\n",
    "docid_batch = []\n",
    "docs_msmarco = []\n",
    "docids_msmarco = []\n",
    "doc_embeddings_msmarco = []\n",
    "docids = set()\n",
    "for example in dataset['train']:\n",
    "    for doc in example['positive_passages']:\n",
    "        if doc['docid'] in docids:\n",
    "            continue\n",
    "        docids.add(doc['docid'])\n",
    "        doc_batch.append(doc['text'])\n",
    "        docid_batch.append(doc['docid'])\n",
    "        docs_msmarco.append(doc['text'])\n",
    "        docids_msmarco.append(doc['docid'])\n",
    "        if len(docid_batch) == 512:\n",
    "            doc_embeddings = model.encode(doc_batch)\n",
    "            for i, docid in enumerate(docid_batch):\n",
    "                docid2doc_embedding[docid] = doc_embeddings[i]\n",
    "                doc_embeddings_msmarco.append(doc_embeddings[i])\n",
    "            doc_batch = []\n",
    "            docid_batch = []\n",
    "\n",
    "if len(docid_batch) > 0 :\n",
    "    doc_embeddings = model.encode(doc_batch)\n",
    "    for i, docid in enumerate(docid_batch):\n",
    "        docid2doc_embedding[docid] = doc_embeddings[i]\n",
    "        doc_embeddings_msmarco.append(doc_embeddings[i])\n",
    "        \n"
   ]
  },
  {
   "cell_type": "markdown",
   "id": "e663bc57",
   "metadata": {},
   "source": [
    "## Calculate fiqa document embedding"
   ]
  },
  {
   "cell_type": "code",
   "execution_count": 10,
   "id": "6d24bb4c",
   "metadata": {},
   "outputs": [
    {
     "name": "stderr",
     "output_type": "stream",
     "text": [
      "100%|███████| 57638/57638 [03:57<00:00, 242.39it/s]\n"
     ]
    }
   ],
   "source": [
    "# get fiqa domain embedding\n",
    "import tqdm\n",
    "docid2doc_embedding_fiqa = {}\n",
    "doc_batch = []\n",
    "docid_batch = []\n",
    "for example in tqdm.tqdm(corpus_fiqa['train']):\n",
    "    docid = example['docid']\n",
    "    text = example['text']\n",
    "    doc_batch.append(text)\n",
    "    docid_batch.append(docid)\n",
    "    if len(docid_batch) == 512:\n",
    "        doc_embeddings = model.encode(doc_batch)\n",
    "        for i, docid in enumerate(docid_batch):\n",
    "            docid2doc_embedding_fiqa[docid] = doc_embeddings[i]\n",
    "        doc_batch = []\n",
    "        docid_batch = []\n",
    "\n",
    "if len(docid_batch) > 0:\n",
    "    doc_embeddings = model.encode(doc_batch)\n",
    "    for i, docid in enumerate(docid_batch):\n",
    "        docid2doc_embedding_fiqa[docid] = doc_embeddings[i]\n",
    "        \n",
    "import numpy as np\n",
    "doc_embedding_fiqa = sum(\n",
    "    docid2doc_embedding_fiqa[docid] for docid in docid2doc_embedding_fiqa) / len(docid2doc_embedding_fiqa)"
   ]
  },
  {
   "cell_type": "code",
   "execution_count": 11,
   "id": "4a239a4a",
   "metadata": {},
   "outputs": [],
   "source": [
    "import numpy as np\n",
    "scores = np.dot(doc_embedding_fiqa, np.array(doc_embeddings_msmarco).T)\n",
    "sim_docids = [(docs_msmarco[i], score, docids_msmarco[i]) for i, score in enumerate(scores)]\n",
    "sim_docids = sorted(sim_docids, key=lambda x: x[1], reverse=True)"
   ]
  },
  {
   "cell_type": "markdown",
   "id": "c941834e",
   "metadata": {},
   "source": [
    "## get qid2score based on docid2score"
   ]
  },
  {
   "cell_type": "code",
   "execution_count": 12,
   "id": "335bfaf1",
   "metadata": {},
   "outputs": [],
   "source": [
    "docid2score = {docid: score for _, score, docid in sim_docids}\n",
    "\n",
    "qid2query = {}\n",
    "qid2score = {}\n",
    "for example in dataset['train']:\n",
    "    qid = example['query_id']\n",
    "    qid2query[qid] = example['query']\n",
    "    for doc in example['positive_passages']:\n",
    "        score = docid2score[doc['docid']]\n",
    "        if qid not in qid2score:\n",
    "            qid2score[qid] = score\n",
    "        else:\n",
    "            qid2score[qid] = max(qid2score[qid], score)"
   ]
  },
  {
   "cell_type": "code",
   "execution_count": 13,
   "id": "5ba8de7d",
   "metadata": {},
   "outputs": [
    {
     "name": "stdout",
     "output_type": "stream",
     "text": [
      "0.1280104 what is warren buffett investing in\n",
      "0.12713526 who is gregory mannarino\n",
      "0.12344028 why health care is a market failure\n",
      "0.12269017 advantages of having money\n",
      "0.12235844 most expensive stock firms\n",
      "0.12130409 do energy management systems make sense from a business point of view\n",
      "0.119668044 it finance definition\n",
      "0.11939504 define the term opportunity cost\n",
      "0.11831266 what type of industry is a holding company\n",
      "0.11812482 how much is ge pension underfunded\n",
      "0.1180791 what is growth low\n",
      "0.116239846 preferred stock 1x liquidation preference\n",
      "0.115887 what challenges faces a financial manager\n",
      "0.11457144 Good Financial Status definition\n",
      "0.11410122 what is overcapitalization\n",
      "0.11396207 define nonfungible role\n",
      "0.11349765 how obamacare failed\n",
      "0.11339473 does tesla negotiate price\n",
      "0.112693764 stock price maximization requires _____.\n",
      "0.11240898 what is uma investment account\n",
      "0.1119784 is ge a good buy\n",
      "0.111773185 amazon wage study\n",
      "0.11173489 why do people lose money investing?\n",
      "0.111103155 what event occurred that caused the sarbanes oxley act to be created\n",
      "0.1108401 long term objective costs for netflix\n",
      "0.10977451 is the tobacco industry dying\n",
      "0.10939365 what percentage of adults are financially illiterate\n",
      "0.109384306 how did economist american recovery act\n",
      "0.10923996 do roofing companies provide finance options\n",
      "0.10882374 hedging telecom stock\n",
      "0.10856955 explain how much tesla is worth\n",
      "0.10823803 what is a shortfall\n",
      "0.108175926 what is level funded insurance plan\n",
      "0.10817438 what is citigroup\n",
      "0.107994854 is owning a franchise profitable\n",
      "0.107510865 why spend money on learning and development\n",
      "0.10742053 what is finserv\n",
      "0.1073049 what is the domino effect...?\n",
      "0.10689768 what is wealth watchers\n",
      "0.106715895 economic affairs definition\n",
      "0.10664848 is there a market crash coming\n",
      "0.106604464 why do small businesses use innovation\n",
      "0.10642809 what is a financial sector\n",
      "0.106031775 is concierge service in what business industry?\n",
      "0.10585346 who were rockefeller carnegie and morgan\n",
      "0.105196126 understanding the statement of cash flows\n",
      "0.105145 time of year to buy a car\n",
      "0.105008624 what is a financial services firm\n",
      "0.10486452 will msft beat earnings\n",
      "0.104736246 what is a regulation a+ ipo\n",
      "0.104625106 is a home warranty a good investment\n",
      "0.10436536 how are entrepreneurs important\n",
      "0.10417334 when is margin debt released\n",
      "0.10413286 which was more successful the first new deal or the second new deal\n",
      "0.104105696 rick smith jpmorgan\n",
      "0.104039684 is rem etf a good investment\n",
      "0.10374645 why is equity important\n",
      "0.10352745 what percent of our economy is consumer spending\n",
      "0.103510745 why was jp morgan so successful\n",
      "0.10343702 did dave ramsey claim bankruptcy\n",
      "0.10332658 what type of government policy is generally used when a positive externality is present?\n",
      "0.10329362 what two principles form the basis for capitalism?\n",
      "0.10324076 what is warren buffett most famous for\n",
      "0.10305924 what are the resources needed to start a business in india\n",
      "0.10304242 do you need prevalence for an economic impact\n",
      "0.10295262 how many employees work for oil companies\n",
      "0.10287031 is money a symbol for success\n",
      "0.1027728 does sarbanes oxley apply to not for profit entities?\n",
      "0.10276808 when is a good time to buy stocks\n",
      "0.10273396 what does repo mean\n",
      "0.102700785 what is thinking on the margin\n",
      "0.10268298 strategic partners definition\n",
      "0.102677 most successful new deal programs\n",
      "0.102654204 what is market fundamentalism\n",
      "0.10253479 is a company analysis a research paper\n",
      "0.10234468 who is the quicken ceo?\n",
      "0.10228408 investment fund definition\n",
      "0.10220814 what are economic risk factors\n",
      "0.1021463 what makes up the financial sector\n",
      "0.1020461 when are sunk costs relevant\n",
      "0.101895966 why is consumer confidence a leading indicator\n",
      "0.10176367 what is methods of raising capital by equity shares\n",
      "0.101570755 what is the price gouging rule in alabama\n",
      "0.1015283 average age of chick fil a employee\n",
      "0.10151014 time value of money in accounting\n",
      "0.10144356 dodd frank act for dummies\n",
      "0.10144356 what does the dodd frank bill do\n",
      "0.10143437 average gross sales per year of retail pet food store\n",
      "0.10139351 what questions should i ask before investing\n",
      "0.10137134 what are some economic concepts\n",
      "0.10135347 average cost for small company to use aws\n",
      "0.1012484 what is dol in financial industry\n",
      "0.101043865 is ambit energy a good opportunity\n",
      "0.1008288 when do firms shut down\n",
      "0.10075114 how does a financial planner make money\n",
      "0.10068098 average savings of retirements by age\n",
      "0.1005056 what jobs can a finance degree get you\n",
      "0.1004935 workers compensation insurance cost\n",
      "0.1000383 why is uber losing money\n",
      "0.099688634 what private equity firms offer hedge funds\n"
     ]
    }
   ],
   "source": [
    "scores = sorted([(qid, score) for qid, score in qid2score.items()], key=lambda x:x[1], reverse=True)\n",
    "for qid, score in scores[:100]:\n",
    "    print(score, qid2query[qid])"
   ]
  },
  {
   "cell_type": "code",
   "execution_count": 14,
   "id": "5949d694",
   "metadata": {},
   "outputs": [],
   "source": [
    "import pickle\n",
    "pickle.dump(qid2score, open(\"qid2score_by_doc_fiqa2.pkl\", \"wb\"))"
   ]
  },
  {
   "cell_type": "markdown",
   "id": "b34a65f4",
   "metadata": {},
   "source": [
    "## Calculate segment stats"
   ]
  },
  {
   "cell_type": "code",
   "execution_count": 15,
   "id": "d2e08a7f",
   "metadata": {},
   "outputs": [
    {
     "data": {
      "application/vnd.jupyter.widget-view+json": {
       "model_id": "4d9de0d90e5c4b10a2c80e6309fe183f",
       "version_major": 2,
       "version_minor": 0
      },
      "text/plain": [
       "  0%|          | 0/400782 [00:00<?, ?ex/s]"
      ]
     },
     "metadata": {},
     "output_type": "display_data"
    }
   ],
   "source": [
    "def add_score(example):\n",
    "    example[\"score\"] = qid2score[example['query_id']]\n",
    "    return example\n",
    "\n",
    "dataset_train = dataset['train'].map(add_score)"
   ]
  },
  {
   "cell_type": "code",
   "execution_count": 16,
   "id": "824dc199",
   "metadata": {},
   "outputs": [
    {
     "data": {
      "text/html": [
       "<div>\n",
       "<style scoped>\n",
       "    .dataframe tbody tr th:only-of-type {\n",
       "        vertical-align: middle;\n",
       "    }\n",
       "\n",
       "    .dataframe tbody tr th {\n",
       "        vertical-align: top;\n",
       "    }\n",
       "\n",
       "    .dataframe thead th {\n",
       "        text-align: right;\n",
       "    }\n",
       "</style>\n",
       "<table border=\"1\" class=\"dataframe\">\n",
       "  <thead>\n",
       "    <tr style=\"text-align: right;\">\n",
       "      <th></th>\n",
       "      <th>0</th>\n",
       "    </tr>\n",
       "  </thead>\n",
       "  <tbody>\n",
       "    <tr>\n",
       "      <th>count</th>\n",
       "      <td>400782.000000</td>\n",
       "    </tr>\n",
       "    <tr>\n",
       "      <th>mean</th>\n",
       "      <td>0.007696</td>\n",
       "    </tr>\n",
       "    <tr>\n",
       "      <th>std</th>\n",
       "      <td>0.018191</td>\n",
       "    </tr>\n",
       "    <tr>\n",
       "      <th>min</th>\n",
       "      <td>-0.049535</td>\n",
       "    </tr>\n",
       "    <tr>\n",
       "      <th>25%</th>\n",
       "      <td>-0.004508</td>\n",
       "    </tr>\n",
       "    <tr>\n",
       "      <th>50%</th>\n",
       "      <td>0.004566</td>\n",
       "    </tr>\n",
       "    <tr>\n",
       "      <th>75%</th>\n",
       "      <td>0.016453</td>\n",
       "    </tr>\n",
       "    <tr>\n",
       "      <th>max</th>\n",
       "      <td>0.128010</td>\n",
       "    </tr>\n",
       "  </tbody>\n",
       "</table>\n",
       "</div>"
      ],
      "text/plain": [
       "                   0\n",
       "count  400782.000000\n",
       "mean        0.007696\n",
       "std         0.018191\n",
       "min        -0.049535\n",
       "25%        -0.004508\n",
       "50%         0.004566\n",
       "75%         0.016453\n",
       "max         0.128010"
      ]
     },
     "execution_count": 16,
     "metadata": {},
     "output_type": "execute_result"
    }
   ],
   "source": [
    "import pandas as pd\n",
    "pd.DataFrame([qid2score[qid] for qid in qid2score]).describe()"
   ]
  },
  {
   "cell_type": "code",
   "execution_count": 17,
   "id": "8ba7b294",
   "metadata": {},
   "outputs": [],
   "source": [
    "dataset_train = dataset_train.sort('score')"
   ]
  },
  {
   "cell_type": "code",
   "execution_count": 18,
   "id": "36d2f55a",
   "metadata": {},
   "outputs": [],
   "source": [
    "dataset_segments_train = []\n",
    "\n",
    "score_segments = [0.03, 0.08, 1]\n",
    "score_segments_i = 0\n",
    "pre_i = 0\n",
    "for i in range(len(dataset_train)):\n",
    "    if dataset_train[i]['score'] > score_segments[score_segments_i]:\n",
    "        dataset_segments_train.append(dataset_train[pre_i:i])\n",
    "        score_segments_i += 1\n",
    "        pre_i = i\n",
    "        \n",
    "dataset_segments_train.append(dataset_train[pre_i:])"
   ]
  },
  {
   "cell_type": "code",
   "execution_count": 19,
   "id": "83a630c1",
   "metadata": {},
   "outputs": [
    {
     "data": {
      "text/plain": [
       "[356268, 43523, 991]"
      ]
     },
     "execution_count": 19,
     "metadata": {},
     "output_type": "execute_result"
    }
   ],
   "source": [
    "[len(d['query']) for d in dataset_segments_train]"
   ]
  }
 ],
 "metadata": {
  "kernelspec": {
   "display_name": "Python 3 (ipykernel)",
   "language": "python",
   "name": "python3"
  },
  "language_info": {
   "codemirror_mode": {
    "name": "ipython",
    "version": 3
   },
   "file_extension": ".py",
   "mimetype": "text/x-python",
   "name": "python",
   "nbconvert_exporter": "python",
   "pygments_lexer": "ipython3",
   "version": "3.8.0"
  }
 },
 "nbformat": 4,
 "nbformat_minor": 5
}
